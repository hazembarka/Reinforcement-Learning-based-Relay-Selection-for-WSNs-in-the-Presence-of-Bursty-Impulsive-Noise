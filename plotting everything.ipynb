{
 "cells": [
  {
   "cell_type": "code",
   "execution_count": 2,
   "metadata": {},
   "outputs": [],
   "source": [
    "\n",
    "import numpy as np #for numerical computing\n",
    "import matplotlib.pyplot as plt #for plotting functions\n",
    "from matplotlib import cm # colormap for color palette\n",
    "from scipy.special import erfc\n",
    "import pandas as pd"
   ]
  },
  {
   "cell_type": "code",
   "execution_count": 9,
   "metadata": {},
   "outputs": [],
   "source": [
    "\n",
    "EbN0dBs = pd.read_csv('Reinforce  .csv').EbN0dBs.values\n",
    "SER_sim_DT = pd.read_csv('Reinforce  .csv').SER_sim_SD_TSMG.values\n",
    "SER_sim_MRC_Q = pd.read_csv('Reinforce  .csv').SER_sim_MRC_TSMG.values\n",
    "SER_sim_MRC_AWGN =  pd.read_csv('Effect of TSMG.csv').SER_sim_MRC_AWGN.values\n",
    "SER_sim_MRC_TSMG =  pd.read_csv('Effect of TSMG.csv').SER_sim_MRC_TSMG.values\n",
    "SER_sim_MRC_TSMG_proposed =  pd.read_csv('proposed.csv').SER_sim_MRC_TSMG_proposed.values\n"
   ]
  },
  {
   "cell_type": "code",
   "execution_count": null,
   "metadata": {},
   "outputs": [],
   "source": [
    "colors = plt.cm.jet(np.linspace(0,1,10)) # colormap\n",
    "fig, ax = plt.subplots(nrows=1,ncols = 1)\n",
    "fig.set_size_inches(10, 6)\n",
    "\n",
    "    \n",
    "ax.semilogy(EbN0dBs,SER_sim_DT,color = colors[0],marker='H',linestyle='-',label='DT AWGN',markersize = 20)\n",
    "ax.semilogy(EbN0dBs,SER_sim_MRC_AWGN,color = colors[4],marker='>',linestyle='-',label='MRC AWGN using Max-Min',markersize = 20)\n",
    "ax.semilogy(EbN0dBs,SER_sim_MRC_Q,color = colors[2],marker='<',linestyle='-',label='MRC TSMG using REINFORCE',markersize = 20)\n",
    "ax.semilogy(EbN0dBs,SER_sim_MRC_TSMG,color = colors[6],marker='o',linestyle='-',label='MRC TSMG using Max-Min',markersize = 20)\n",
    "ax.semilogy(EbN0dBs,SER_sim_MRC_TSMG_proposed,color = colors[8],marker='o',linestyle='-',label='MRC TSMG using the proposed Max-Min',markersize = 20)\n",
    "\n",
    "ax.set_xlabel('Eb/N0(dB)',fontsize=15);ax.set_ylabel('SER ($P_s$)',fontsize=15)\n",
    "ax.set_title('Probability of Symbol Error over Rayleigh flat fading channel',fontsize=15)\n",
    "ax.legend()\n",
    "ax.xaxis.set_tick_params(labelsize=20)\n",
    "ax.yaxis.set_tick_params(labelsize=20)\n",
    "ax.grid(True)\n",
    "ax.set_ylim([0.00006, 0])"
   ]
  }
 ],
 "metadata": {
  "interpreter": {
   "hash": "7f7be9d51035affafb29dceabe234970f757e220d15705efccd7c466e6060a35"
  },
  "kernelspec": {
   "display_name": "Python 3.8.8 ('base')",
   "language": "python",
   "name": "python3"
  },
  "language_info": {
   "codemirror_mode": {
    "name": "ipython",
    "version": 3
   },
   "file_extension": ".py",
   "mimetype": "text/x-python",
   "name": "python",
   "nbconvert_exporter": "python",
   "pygments_lexer": "ipython3",
   "version": "3.8.8"
  },
  "orig_nbformat": 4
 },
 "nbformat": 4,
 "nbformat_minor": 2
}
